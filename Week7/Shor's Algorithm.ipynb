{
 "cells": [
  {
   "cell_type": "markdown",
   "id": "fc6958dc-f907-4be1-9ad1-800fa8b1a14c",
   "metadata": {},
   "source": [
    "# Shor's Prime Factorization Algorithm"
   ]
  },
  {
   "cell_type": "markdown",
   "id": "902dda19-6d3a-4ca2-a764-6408e637b7cc",
   "metadata": {},
   "source": [
    "## Background Knowledge\n",
    "To understand what is going on in Shor's Algorithm, we'll have to draw knowledge from a few areas in mathematics:\n",
    "- Greatest Common Divisor (GCD)\n",
    "- Modular Arithmetic\n",
    "- Periodicity\n",
    "- Fourier Transform\n",
    "\n",
    "\n",
    "### GCD\n",
    "Let's say that we have two numbers, $a$ and $b$. The Greatest Commond Divisor relates to the largest number that divides both $a$ and $b$ and both quotients result in whole numbers.\n",
    "\n",
    "For example, if we have numbers 25 and 80, the GCD would be 5 because they both share that common factor. This can be proven by decompose each number into their prime factors:\n",
    "- $25 = 5^2$\n",
    "- $80 = 2^4 * 5$\n",
    "\n",
    "There is a property of certain pairs of numbers where $\\gcd(a, b) = 1$. This is sometimes referred to as the numbers being <u>coprime</u> meaning the numbers do not share a common divisor greater than 1.\n",
    "\n",
    "An example of this would be with the numbers 25 and 6. If we decompose these into their prime factors,\n",
    "- $25 = 5^2$\n",
    "- $6 = 2*3$\n",
    "\n",
    "we see that there are no shared prime numbers between the 2 numbers.\n",
    "\n",
    "Shor's Algorithm will be using this property of certain number pairs."
   ]
  },
  {
   "cell_type": "markdown",
   "id": "b5a9e832-8dfa-4aee-b890-c798b00b5350",
   "metadata": {},
   "source": [
    "### Modular Arithmetic\n",
    "Let's take it back to the good old days of long division and remainders. Back in those days, we used to describe the remnant of division as a quotient with a remainder.\n",
    "\n",
    "For example, 5 divided by 2 is 2 r1, but if we extend this out to all odd numbers, we have the general form of $\\frac{n}{2}$ remainder 1.\n",
    "\n",
    "Let's view this in a different way: $5 \\% 2 = 1$ **or** $5\\mod{2} = 1$.\n",
    "\n",
    "That resulting 1 shows that the modulus operation is closely related to the remainder of a division because the result of the modulus operation is always the same as the remainder of the division when both numbers are positive.\n",
    "\n",
    "The modulus operator is the $\\%$ symbol or$\\mod{}$ and operations will either look like that second equation, $5 \\% 2 = 1$.\n",
    "\n",
    "Modular arithmetic acts on this concept, but also incorporates concepts like <u>congruence classes</u>.\n",
    "\n",
    "#### Congruence classes\n",
    "Congruence classes are the result of trying to find the original number of a modulus operation. Let's say that I have the modulus 2 and the result of 1. If I ask you about what the original number was, you could tell me 5 because that was what we used earlier, but the answer could also be 1 or 3 or 7 or any odd number. The set of all odd numbers, in this case, is the congruence class.\n",
    "\n",
    "These congruence classes will be important for determining the results of Shor's algorithm."
   ]
  },
  {
   "cell_type": "markdown",
   "id": "e24605ea-f406-44a1-8d71-688625434ade",
   "metadata": {},
   "source": [
    "### Fourier Transformation\n",
    "This'll be a high-level overview of the Fourier Transform because we don't need to get into the Calculus of it. The FT is a mathematical technique used to analyze and decompose complex signals or functions into their individual frequency components.\n",
    "\n",
    "For Shor's Algorithm, we're looking to conduct the inverse operation so that we take the frequency components into a usable value.\n",
    "\n",
    "### Periodicity\n",
    "The periodicity refers to a given function $f(x)$ that gives the same output at repitiive, but consistent intervals. $f(x) = f(x + P)$ shows that, given an input number $x$, we get the same answer at the input number $x + P$, where $P$ would mark the periodicity of the function.\n",
    "\n",
    "$\\sin$ and $\\cos$ waves are perfect examples of this, where if we put in $0$ and $2\\pi$, then we get the same answer, so we say that $P = 2\\pi$.\n",
    "\n",
    "In Shor's Algorithm, this periodicity serves as the input to the inverse Quantum Fourier Transform, where we'll be taking this as input and get a usable value as output."
   ]
  },
  {
   "cell_type": "markdown",
   "id": "0c485283-6785-4a95-9a0d-6e62407cd5de",
   "metadata": {},
   "source": [
    "## High-Level Operation\n",
    "There are 4 main steps that occur in Shor's Algorithm.\n",
    "\n",
    "For this example, let's say that we have a number we want to factor, 21.\n",
    "\n",
    "### Picking a random number that's coprime\n",
    "In order to start the process, we need to pick a number $a$, such that $K = \\gcd(a, N) = 1$\n",
    "\n",
    "The reason we want to fulfill this is if we find a number that shares a common factor with $N$, then we don't need to conduct Shor's Algorithm, we can just factor $N$ using $K$.\n",
    "\n",
    "Once we get an $a$ value that's coprime with $N$, then we can start the algorithm.\n",
    "\n",
    "\n",
    "### The H Gate Army\n",
    "First, we apply an array of H Gates across our data qubits, mathematically denoted as $H^{2\\otimes}$. Like in previous algorithms, this is our way of setting all $2^N$ possibilities into equal superposition, meaning that they are equally likely to occur at the beginning.\n",
    "\n",
    "### Modular Exponentiation\n",
    "For this step, we'll be using the function $f(x) = a^x \\mod{N}$ where $N$ is the number we're trying to factor, $a$ is a random number and $x$ is a number starting at 1 and incrementally going up. This function that we're using is called the Modular Exponentiation function and because it uses modular arithmetic, it's a periodic function. "
   ]
  },
  {
   "cell_type": "code",
   "execution_count": 7,
   "id": "da286f4d-5ea7-434c-ae91-10fdcc9cfca5",
   "metadata": {},
   "outputs": [
    {
     "data": {
      "text/html": [
       "<div>\n",
       "<style scoped>\n",
       "    .dataframe tbody tr th:only-of-type {\n",
       "        vertical-align: middle;\n",
       "    }\n",
       "\n",
       "    .dataframe tbody tr th {\n",
       "        vertical-align: top;\n",
       "    }\n",
       "\n",
       "    .dataframe thead th {\n",
       "        text-align: right;\n",
       "    }\n",
       "</style>\n",
       "<table border=\"1\" class=\"dataframe\">\n",
       "  <thead>\n",
       "    <tr style=\"text-align: right;\">\n",
       "      <th></th>\n",
       "      <th>X Value</th>\n",
       "      <th>Results of 2^x mod(21)</th>\n",
       "    </tr>\n",
       "  </thead>\n",
       "  <tbody>\n",
       "    <tr>\n",
       "      <th>0</th>\n",
       "      <td>1</td>\n",
       "      <td>2</td>\n",
       "    </tr>\n",
       "    <tr>\n",
       "      <th>1</th>\n",
       "      <td>2</td>\n",
       "      <td>4</td>\n",
       "    </tr>\n",
       "    <tr>\n",
       "      <th>2</th>\n",
       "      <td>3</td>\n",
       "      <td>8</td>\n",
       "    </tr>\n",
       "    <tr>\n",
       "      <th>3</th>\n",
       "      <td>4</td>\n",
       "      <td>16</td>\n",
       "    </tr>\n",
       "    <tr>\n",
       "      <th>4</th>\n",
       "      <td>5</td>\n",
       "      <td>11</td>\n",
       "    </tr>\n",
       "    <tr>\n",
       "      <th>5</th>\n",
       "      <td>6</td>\n",
       "      <td>1</td>\n",
       "    </tr>\n",
       "    <tr>\n",
       "      <th>6</th>\n",
       "      <td>7</td>\n",
       "      <td>2</td>\n",
       "    </tr>\n",
       "  </tbody>\n",
       "</table>\n",
       "</div>"
      ],
      "text/plain": [
       "   X Value  Results of 2^x mod(21)\n",
       "0        1                       2\n",
       "1        2                       4\n",
       "2        3                       8\n",
       "3        4                      16\n",
       "4        5                      11\n",
       "5        6                       1\n",
       "6        7                       2"
      ]
     },
     "execution_count": 7,
     "metadata": {},
     "output_type": "execute_result"
    }
   ],
   "source": [
    "import pandas as pd\n",
    "\n",
    "list_of_x = list(range(1, 8))\n",
    "\n",
    "example_n_value = 21\n",
    "example_a_value = 2\n",
    "\n",
    "\n",
    "def modular_exponentiation(x, N, a):\n",
    "    return pow(a, x, N)\n",
    "\n",
    "list_of_results = [modular_exponentiation(x, example_n_value, example_a_value) for x in list_of_x]\n",
    "\n",
    "data = {\"X Value\": list_of_x, \"Results of 2^x mod(21)\": list_of_results}\n",
    "\n",
    "df = pd.DataFrame(data)\n",
    "\n",
    "\n",
    "df"
   ]
  },
  {
   "cell_type": "markdown",
   "id": "cc1c85a5-101f-40b5-ae0a-223befc7c2ca",
   "metadata": {},
   "source": [
    "### The Inverse Quantum Fourier Transform\n",
    "Like the standard Fourier Transform, we're transforming the way we measure our discrete values. Classically, it's from a set of values measured in time to a set of values measured in frequency. A similar thing occurs with the QFT, except our information is measured in the \"Computational Basis\" (the standard way we measure qubits) to the \"Frequency/Hadamard basis\".\n",
    "\n",
    "\n",
    "#### Gathering the Periodicity\n",
    "From the table, we see that $x=1$ and $x=7$ give the same output value of 2. From this, we know that this function's periodicity is $6 = 7 - 1$.\n",
    "\n",
    "We continue on with this value.\n",
    "\n",
    "### Factoring the $N$ value\n",
    "Next, we'll use the function $a^r \\mod{N} = 1$ to derive some important functions we'll be using to obtain *at least* one prime factor of $N$\n",
    "\n",
    "1. We'll rewrite the function to $(a^r -1) \\mod{N} = 0$\n",
    "    - This means that $N$ divides $a^r$\n",
    "2. Because of $(a^x - 1) = (a^{r/2}-1)(a^{r/2}+1)$, we can rewite our function to gain 2 possible values\n",
    "3. With these 2 functions, we can conduct the $\\gcd(a^{r/2} \\pm 1, N)$\n",
    "\n",
    "#### Using our example\n",
    "Given the following values:\n",
    "$N = 21$\n",
    "$a = 2$\n",
    "$r = 6$\n",
    "\n",
    "We can find the factors of $N$.\n",
    "\n",
    "$$\\gcd(2^{6/2} -1, 21), \\gcd(2^{6/2} +1, 21)$$\n",
    "$$\\gcd(2^{3} -1, 21), \\gcd(2^{3} +1, 21)$$\n",
    "$$\\gcd(8 -1, 21), \\gcd(8 +1, 21)$$\n",
    "$$\\gcd(7, 21), \\gcd(9, 21)$$\n",
    "$$7, 3$$\n",
    "\n",
    "#### Disclaimer\n",
    "In this example, we happened to find both prime factors of 21; however, this isn't always the case. Our goal is to find <u>at least one</u> prime factor of $N$, but finding both means a little less work for us.\n",
    "\n",
    "\n"
   ]
  },
  {
   "cell_type": "markdown",
   "id": "c113f945-d100-41f1-912c-dcf219aad01b",
   "metadata": {},
   "source": [
    "## Caveats of Shor's Algorithm\n",
    "There are 2 caveats that come with using this algorithm, all dealing with the periodicity $r$.\n",
    "1. $r$ must be even\n",
    "    - If $r$ is not even, that means we'll have a $\\sqrt{a^r}$\n",
    "    - That will give us an irrational number, which cannot be used with the GCD.\n",
    "2. $r$ cannot be in the congruence class of $-1 \\mod{N}$\n",
    "    - At the current moment, I cannot explain this requirement.\n",
    "    \n",
    "If both of these requirements aren't fulfilled, then we restart the process of finding a new $a$ value"
   ]
  },
  {
   "attachments": {
    "6145d507-174f-45d0-a5ce-20ca5cca176e.PNG": {
     "image/png": "[encoded data removed]"
    }
   },
   "cell_type": "markdown",
   "id": "d55c4dd1-4fe4-4659-9b09-87c376c447b2",
   "metadata": {},
   "source": [
    "## What does this look like as a circuit?\n",
    "\n",
    "\n",
    "![Shors Picture.PNG](attachment:6145d507-174f-45d0-a5ce-20ca5cca176e.PNG)"
   ]
  },
  {
   "cell_type": "markdown",
   "id": "8b7a260b-e32d-46bf-ba07-4a174ea66ccf",
   "metadata": {},
   "source": [
    "The picture above shows the high-level outline of the steps in Shor's Algorithm that need to be run on a Quantum Computer.\n",
    "1. The H-Gate Array is the first part on our data qubits\n",
    "2. The Modular Exponentiation is setup as a function where each data qubit is the control of Mod-Ex gate.\n",
    "3. After all the Mod-Ex gates are conducted, we take the $QFT^{-1}$ to translate the periodicity of our function into a number that we can use classically."
   ]
  },
  {
   "cell_type": "code",
   "execution_count": null,
   "id": "3a473d64-8905-44ad-bf3c-513cbe888970",
   "metadata": {},
   "outputs": [],
   "source": []
  }
 ],
 "metadata": {
  "kernelspec": {
   "display_name": "Python 3 (ipykernel)",
   "language": "python",
   "name": "python3"
  },
  "language_info": {
   "codemirror_mode": {
    "name": "ipython",
    "version": 3
   },
   "file_extension": ".py",
   "mimetype": "text/x-python",
   "name": "python",
   "nbconvert_exporter": "python",
   "pygments_lexer": "ipython3",
   "version": "3.9.7"
  }
 },
 "nbformat": 4,
 "nbformat_minor": 5
}
